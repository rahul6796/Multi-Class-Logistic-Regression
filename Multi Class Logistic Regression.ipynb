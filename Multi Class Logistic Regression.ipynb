{
 "cells": [
  {
   "cell_type": "markdown",
   "metadata": {},
   "source": [
    "# Multi Class Logistic Regression"
   ]
  },
  {
   "cell_type": "markdown",
   "metadata": {},
   "source": [
    "# Content"
   ]
  },
  {
   "cell_type": "markdown",
   "metadata": {},
   "source": [
    "$1$. What is Multi-class-Logistic-Regression:"
   ]
  },
  {
   "cell_type": "markdown",
   "metadata": {},
   "source": [
    "$2$.Loss-Function:"
   ]
  },
  {
   "cell_type": "markdown",
   "metadata": {},
   "source": [
    "$3$.Optimization-Of-Loss-Function:"
   ]
  },
  {
   "cell_type": "markdown",
   "metadata": {},
   "source": [
    "# 1. What is Multi-class-Logistic-Regression:"
   ]
  },
  {
   "cell_type": "markdown",
   "metadata": {},
   "source": [
    "In ${Multi-Class-Logistic-Regression}$ we are try to classify the more that two class."
   ]
  },
  {
   "cell_type": "markdown",
   "metadata": {},
   "source": [
    "and there intution is come from the ${Naive-Bayes-For-Multi-Classification}$. and in this case all things are different from the Binary class logistic regression, like ${Objective-Function}$ and ${loss-Function}$ etc."
   ]
  },
  {
   "cell_type": "markdown",
   "metadata": {},
   "source": [
    "first we come up with loss function for ${Multi-class-logistic-regression}$."
   ]
  },
  {
   "cell_type": "markdown",
   "metadata": {},
   "source": [
    "# 2.Loss-Function:"
   ]
  },
  {
   "cell_type": "markdown",
   "metadata": {},
   "source": [
    "We know that the formula of Naive-Bayes-For-Multi-class."
   ]
  },
  {
   "cell_type": "markdown",
   "metadata": {},
   "source": [
    "I have only ${3}$ ${class}$."
   ]
  },
  {
   "cell_type": "markdown",
   "metadata": {},
   "source": [
    "so Naive-Bayes-for-three-class is."
   ]
  },
  {
   "cell_type": "code",
   "execution_count": null,
   "metadata": {},
   "outputs": [],
   "source": []
  }
 ],
 "metadata": {
  "kernelspec": {
   "display_name": "Python 3",
   "language": "python",
   "name": "python3"
  },
  "language_info": {
   "codemirror_mode": {
    "name": "ipython",
    "version": 3
   },
   "file_extension": ".py",
   "mimetype": "text/x-python",
   "name": "python",
   "nbconvert_exporter": "python",
   "pygments_lexer": "ipython3",
   "version": "3.7.3"
  }
 },
 "nbformat": 4,
 "nbformat_minor": 2
}
